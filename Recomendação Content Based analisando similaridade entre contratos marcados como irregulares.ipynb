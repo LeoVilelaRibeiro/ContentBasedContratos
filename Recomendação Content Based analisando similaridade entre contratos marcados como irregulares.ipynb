{
 "cells": [
  {
   "cell_type": "markdown",
   "metadata": {
    "colab_type": "text",
    "id": "czFBqPc5HwET"
   },
   "source": [
    "Uso de Recomendação em Content Based para contratos de licitação\n",
    "\n",
    "Aqui apresento implementações em [Python](https://www.python.org/) para recomendação de contrato para análise de legalidade de licitação baseada em conteúdo. Primeiramente, vamos carregar algumas bibliotecas necessárias para a implementação das abordagens:\n"
   ]
  },
  {
   "cell_type": "code",
   "execution_count": 1,
   "metadata": {
    "colab": {
     "autoexec": {
      "startup": false,
      "wait_interval": 0
     },
     "base_uri": "https://localhost:8080/",
     "height": 51
    },
    "colab_type": "code",
    "executionInfo": {
     "elapsed": 881,
     "status": "ok",
     "timestamp": 1528912093340,
     "user": {
      "displayName": "Wladmir Cardoso Brandão",
      "photoUrl": "//lh5.googleusercontent.com/-SGSelMTRK_4/AAAAAAAAAAI/AAAAAAABeK0/PmbiLSnzkAE/s50-c-k-no/photo.jpg",
      "userId": "103335929661169749259"
     },
     "user_tz": 180
    },
    "id": "ZYS3p-h-PJjQ",
    "outputId": "dc0bcd47-262d-41ef-dc9f-030779bb762c"
   },
   "outputs": [
    {
     "name": "stdout",
     "output_type": "stream",
     "text": [
      "[nltk_data] Downloading package stopwords to C:\\Users\\Leonardo\n",
      "[nltk_data]     Vilela\\AppData\\Roaming\\nltk_data...\n",
      "[nltk_data]   Package stopwords is already up-to-date!\n"
     ]
    }
   ],
   "source": [
    "import numpy as np\n",
    "import scipy\n",
    "import pandas as pd\n",
    "import math\n",
    "import random\n",
    "import sklearn\n",
    "import nltk\n",
    "\n",
    "nltk.download('stopwords')\n",
    "\n",
    "from nltk.corpus import stopwords\n",
    "from sklearn.model_selection import train_test_split\n",
    "from sklearn.feature_extraction.text import TfidfVectorizer\n",
    "from sklearn.metrics.pairwise import cosine_similarity\n",
    "from sklearn.metrics.pairwise import pairwise_distances\n",
    "from sklearn.metrics import mean_squared_error\n",
    "from math import sqrt\n",
    "from scipy.sparse.linalg import svds\n",
    "import matplotlib.pyplot as plt"
   ]
  },
  {
   "cell_type": "raw",
   "metadata": {
    "colab_type": "text",
    "id": "8Xw8Pbo-ABeC"
   },
   "source": [
    "##Base de Dados\n",
    "\n",
    "---\n",
    "\n",
    "Preparei uma base de dados com 22504 contratos.\n",
    "Estes contratos receberam 32160 avaliações.\n",
    "Abaixo carregaremos as bases de dados e uniremos."
   ]
  },
  {
   "cell_type": "markdown",
   "metadata": {
    "colab_type": "text",
    "id": "c_dwvGze9Qw8"
   },
   "source": [
    "### Carga da Base de Dados\n",
    "---\n",
    "Esta carga será um evento simples pois os dados foram tratados em SGBD ORACLE previamente."
   ]
  },
  {
   "cell_type": "markdown",
   "metadata": {
    "colab_type": "text",
    "id": "uR2tk28d9ykf"
   },
   "source": [
    "#### movies_metadata.csv\n",
    "\n",
    "Contém informação sobre itens (filmes), tal como identificador, título, descrição textual, a língua."
   ]
  },
  {
   "cell_type": "code",
   "execution_count": 2,
   "metadata": {
    "colab": {
     "autoexec": {
      "startup": false,
      "wait_interval": 0
     },
     "base_uri": "https://localhost:8080/",
     "height": 34
    },
    "colab_type": "code",
    "collapsed": true,
    "executionInfo": {
     "elapsed": 959,
     "status": "ok",
     "timestamp": 1528912135280,
     "user": {
      "displayName": "Wladmir Cardoso Brandão",
      "photoUrl": "//lh5.googleusercontent.com/-SGSelMTRK_4/AAAAAAAAAAI/AAAAAAABeK0/PmbiLSnzkAE/s50-c-k-no/photo.jpg",
      "userId": "103335929661169749259"
     },
     "user_tz": 180
    },
    "id": "-ft7e4TFVZGs",
    "outputId": "096b3489-f3e6-4645-cd19-0452e17f761f"
   },
   "outputs": [],
   "source": [
    "#nltk.download('stopwords')\n",
    "\n",
    "ratings = pd.read_excel(r'C:\\Users\\Leonardo Vilela\\Documents\\MESTRADO\\RecSys\\contratos\\ranking.xlsx')\n",
    "contratos = pd.read_excel(r'C:\\Users\\Leonardo Vilela\\Documents\\MESTRADO\\RecSys\\contratos\\contratos_apenas.xlsx')\n"
   ]
  },
  {
   "cell_type": "code",
   "execution_count": 3,
   "metadata": {},
   "outputs": [
    {
     "data": {
      "text/html": [
       "<div>\n",
       "<style>\n",
       "    .dataframe thead tr:only-child th {\n",
       "        text-align: right;\n",
       "    }\n",
       "\n",
       "    .dataframe thead th {\n",
       "        text-align: left;\n",
       "    }\n",
       "\n",
       "    .dataframe tbody tr th {\n",
       "        vertical-align: top;\n",
       "    }\n",
       "</style>\n",
       "<table border=\"1\" class=\"dataframe\">\n",
       "  <thead>\n",
       "    <tr style=\"text-align: right;\">\n",
       "      <th></th>\n",
       "      <th>USER</th>\n",
       "      <th>RATING</th>\n",
       "      <th>CLASSE</th>\n",
       "      <th>COD</th>\n",
       "    </tr>\n",
       "  </thead>\n",
       "  <tbody>\n",
       "    <tr>\n",
       "      <th>16079</th>\n",
       "      <td>1</td>\n",
       "      <td>0</td>\n",
       "      <td>6</td>\n",
       "      <td>18508</td>\n",
       "    </tr>\n",
       "    <tr>\n",
       "      <th>17327</th>\n",
       "      <td>1</td>\n",
       "      <td>0</td>\n",
       "      <td>2</td>\n",
       "      <td>25076</td>\n",
       "    </tr>\n",
       "    <tr>\n",
       "      <th>17326</th>\n",
       "      <td>1</td>\n",
       "      <td>0</td>\n",
       "      <td>2</td>\n",
       "      <td>25075</td>\n",
       "    </tr>\n",
       "    <tr>\n",
       "      <th>17325</th>\n",
       "      <td>1</td>\n",
       "      <td>0</td>\n",
       "      <td>2</td>\n",
       "      <td>25074</td>\n",
       "    </tr>\n",
       "    <tr>\n",
       "      <th>17324</th>\n",
       "      <td>1</td>\n",
       "      <td>0</td>\n",
       "      <td>2</td>\n",
       "      <td>25073</td>\n",
       "    </tr>\n",
       "  </tbody>\n",
       "</table>\n",
       "</div>"
      ],
      "text/plain": [
       "       USER  RATING  CLASSE    COD\n",
       "16079     1       0       6  18508\n",
       "17327     1       0       2  25076\n",
       "17326     1       0       2  25075\n",
       "17325     1       0       2  25074\n",
       "17324     1       0       2  25073"
      ]
     },
     "execution_count": 3,
     "metadata": {},
     "output_type": "execute_result"
    }
   ],
   "source": [
    "ratings.sort_values(by=['USER']).head(5)"
   ]
  },
  {
   "cell_type": "code",
   "execution_count": 4,
   "metadata": {
    "colab": {
     "autoexec": {
      "startup": false,
      "wait_interval": 0
     },
     "base_uri": "https://localhost:8080/",
     "height": 204
    },
    "colab_type": "code",
    "executionInfo": {
     "elapsed": 683,
     "status": "ok",
     "timestamp": 1528912140435,
     "user": {
      "displayName": "Wladmir Cardoso Brandão",
      "photoUrl": "//lh5.googleusercontent.com/-SGSelMTRK_4/AAAAAAAAAAI/AAAAAAABeK0/PmbiLSnzkAE/s50-c-k-no/photo.jpg",
      "userId": "103335929661169749259"
     },
     "user_tz": 180
    },
    "id": "3Us4l_Ztud_O",
    "outputId": "febfc410-bc72-4e8c-bdd1-c1016b45b7b4"
   },
   "outputs": [
    {
     "data": {
      "text/html": [
       "<div>\n",
       "<style>\n",
       "    .dataframe thead tr:only-child th {\n",
       "        text-align: right;\n",
       "    }\n",
       "\n",
       "    .dataframe thead th {\n",
       "        text-align: left;\n",
       "    }\n",
       "\n",
       "    .dataframe tbody tr th {\n",
       "        vertical-align: top;\n",
       "    }\n",
       "</style>\n",
       "<table border=\"1\" class=\"dataframe\">\n",
       "  <thead>\n",
       "    <tr style=\"text-align: right;\">\n",
       "      <th></th>\n",
       "      <th>COD</th>\n",
       "      <th>OBJETO</th>\n",
       "    </tr>\n",
       "  </thead>\n",
       "  <tbody>\n",
       "    <tr>\n",
       "      <th>0</th>\n",
       "      <td>1</td>\n",
       "      <td>A Secretaria de Administração. Fazenda e Gover...</td>\n",
       "    </tr>\n",
       "    <tr>\n",
       "      <th>1</th>\n",
       "      <td>2</td>\n",
       "      <td>A Secretaria de Administração. Fazenda e Gover...</td>\n",
       "    </tr>\n",
       "    <tr>\n",
       "      <th>2</th>\n",
       "      <td>3</td>\n",
       "      <td>CONTRATACAO DE EMPRESA ESPECIALIZADA EM MANUTE...</td>\n",
       "    </tr>\n",
       "    <tr>\n",
       "      <th>3</th>\n",
       "      <td>4</td>\n",
       "      <td>CONTRATACAO DE EMPRESA ESPECIALIZADA EM MANUTE...</td>\n",
       "    </tr>\n",
       "    <tr>\n",
       "      <th>4</th>\n",
       "      <td>5</td>\n",
       "      <td>Recurso para credenciamento de pessoas jurídic...</td>\n",
       "    </tr>\n",
       "  </tbody>\n",
       "</table>\n",
       "</div>"
      ],
      "text/plain": [
       "   COD                                             OBJETO\n",
       "0    1  A Secretaria de Administração. Fazenda e Gover...\n",
       "1    2  A Secretaria de Administração. Fazenda e Gover...\n",
       "2    3  CONTRATACAO DE EMPRESA ESPECIALIZADA EM MANUTE...\n",
       "3    4  CONTRATACAO DE EMPRESA ESPECIALIZADA EM MANUTE...\n",
       "4    5  Recurso para credenciamento de pessoas jurídic..."
      ]
     },
     "execution_count": 4,
     "metadata": {},
     "output_type": "execute_result"
    }
   ],
   "source": [
    "ratings.sort_values(by=['USER']).head(5)\n",
    "contratos.sort_values(by=['COD']).head(5)\n"
   ]
  },
  {
   "cell_type": "markdown",
   "metadata": {
    "colab_type": "text",
    "id": "H-I57S0Zp8X4"
   },
   "source": []
  },
  {
   "cell_type": "markdown",
   "metadata": {
    "colab_type": "text",
    "id": "dmpVajNw3F3A"
   },
   "source": [
    "#### Formação do arquivo de Treino\n"
   ]
  },
  {
   "cell_type": "code",
   "execution_count": 5,
   "metadata": {
    "colab": {
     "autoexec": {
      "startup": false,
      "wait_interval": 0
     },
     "base_uri": "https://localhost:8080/",
     "height": 51
    },
    "colab_type": "code",
    "collapsed": true,
    "executionInfo": {
     "elapsed": 731,
     "status": "ok",
     "timestamp": 1528912154472,
     "user": {
      "displayName": "Wladmir Cardoso Brandão",
      "photoUrl": "//lh5.googleusercontent.com/-SGSelMTRK_4/AAAAAAAAAAI/AAAAAAABeK0/PmbiLSnzkAE/s50-c-k-no/photo.jpg",
      "userId": "103335929661169749259"
     },
     "user_tz": 180
    },
    "id": "WEHVLMVY3ZK7",
    "outputId": "8b763749-da04-4547-8e36-7ec6573f0ba0",
    "scrolled": true
   },
   "outputs": [],
   "source": [
    "licitacoes_treino = pd.merge(ratings,contratos,on='COD')"
   ]
  },
  {
   "cell_type": "markdown",
   "metadata": {
    "colab_type": "text",
    "id": "4hyXIDzQGN_e"
   },
   "source": [
    "## Abordagens de Recomendação\n",
    "---\n",
    "A seguir apresento quatro abordagens de recomendação: abordagem baseada em popularidade (PB), abordagem baseada em filtragem colaborativa (CF), abordagem baseada em conteúdo (CB) e abordagem híbrida (HB). Para a abordagem de filtragem colaborativa, foram implementadas quatro diferentes estratégias: baseada em usuário (CF-UB), baseada em item (CF-IB) e baseada em fatoração de matriz utilizando [decomposição de valores singulares](https://pt.wikipedia.org/wiki/Decomposi%C3%A7%C3%A3o_em_valores_singulares) (CF-SVD)."
   ]
  },
  {
   "cell_type": "markdown",
   "metadata": {
    "colab_type": "text",
    "id": "-alhSw9WG-d4"
   },
   "source": [
    "### Baseada em Conteúdo\n",
    "Abordagens de recomendação baseadas em conteúdo levam em conta a descrição (ou atributos) de itens relevantes a usuários para sugerir itens similares. Elas consideram apenas escolhas prévias do próprio usuário, o que as torna resilientes ao problema de  [cold-start](https://en.wikipedia.org/wiki/Cold_start). Para recomendação de itens com farto conteúdo textual, como artigos, livros e notícias, o uso do texto associado ao item para construir perfis de itens e usuários se mostra uma tarefa muito simples e intuitiva.\n",
    "\n",
    "Aqui utilizaremos um modelo clássico de recuperação de informação para representação de itens e usuários, o [modelo vetorial](https://pt.wikipedia.org/wiki/Modelo_vetorial_em_sistemas_de_recupera%C3%A7%C3%A3o_da_informa%C3%A7%C3%A3o). Nesse modelo, textos não estruturados são convertidos em vetores de palavras, onde cada palavra é representada por uma posição no vetor e o valor nessa posição indica a importância (peso) da palavra no texto. Como todos os itens e usuários são representados em um espaço vetorial, o cálculo de similaridade entre itens e usuários pode ser feito utilizando o cosseno ([cosine similarity](https://en.wikipedia.org/wiki/Cosine_similarity)) entre seus respectivos vetores. Para o cálculo do peso das palavras no texto geralmente utiliza-se o [esquema TF-IDF](https://pt.wikipedia.org/wiki/Tf%E2%80%93idf), onde a frequência da palavra no texto e a raridade da palavra entre os diversos textos determinam sua importância."
   ]
  },
  {
   "cell_type": "code",
   "execution_count": 6,
   "metadata": {
    "colab": {
     "autoexec": {
      "startup": false,
      "wait_interval": 0
     },
     "base_uri": "https://localhost:8080/",
     "height": 51
    },
    "colab_type": "code",
    "executionInfo": {
     "elapsed": 12524,
     "status": "ok",
     "timestamp": 1528912293262,
     "user": {
      "displayName": "Wladmir Cardoso Brandão",
      "photoUrl": "//lh5.googleusercontent.com/-SGSelMTRK_4/AAAAAAAAAAI/AAAAAAABeK0/PmbiLSnzkAE/s50-c-k-no/photo.jpg",
      "userId": "103335929661169749259"
     },
     "user_tz": 180
    },
    "id": "pM1p37AVHHHv",
    "outputId": "83925f27-27ef-4b2a-a97a-dee5295aac4b"
   },
   "outputs": [
    {
     "name": "stderr",
     "output_type": "stream",
     "text": [
      "C:\\Users\\Leonardo Vilela\\Anaconda3\\lib\\site-packages\\sklearn\\feature_extraction\\text.py:1059: FutureWarning: Conversion of the second argument of issubdtype from `float` to `np.floating` is deprecated. In future, it will be treated as `np.float64 == np.dtype(float).type`.\n",
      "  if hasattr(X, 'dtype') and np.issubdtype(X.dtype, np.float):\n"
     ]
    },
    {
     "data": {
      "text/plain": [
       "<32160x1484 sparse matrix of type '<class 'numpy.float64'>'\n",
       "\twith 771944 stored elements in Compressed Sparse Row format>"
      ]
     },
     "execution_count": 6,
     "metadata": {},
     "output_type": "execute_result"
    }
   ],
   "source": [
    "stopwords_list = stopwords.words('portuguese')\n",
    "licitacoes_treinoIDX=licitacoes_treino.set_index('USER')\n",
    "#CRIANDO UM VETOR DE PALAVRAS TFIDF\n",
    "vectorizer = TfidfVectorizer(analyzer='word',\n",
    "                     ngram_range=(1, 2),\n",
    "                     min_df=0.003,\n",
    "                     max_df=0.8,\n",
    "                     max_features=5000,\n",
    "                     stop_words=stopwords_list)\n",
    "#POPULANDO OBJETOS \n",
    "item_ids = licitacoes_treino['COD'].tolist()\n",
    "\n",
    "#TRANSFORMANDO O VETOR EM MATRIZ\n",
    "tfidf_matrix = vectorizer.fit_transform(licitacoes_treino['OBJETO']) \n",
    "#LISTANDO TODAS AS PALAVRAS ENCONTRADAS\n",
    "tfidf_feature_names = vectorizer.get_feature_names()\n",
    "tfidf_matrix"
   ]
  },
  {
   "cell_type": "markdown",
   "metadata": {
    "colab_type": "text",
    "id": "11BOwjRdHKWL"
   },
   "source": [
    "Para modelar o perfil de usuário, utilizaremos todos os perfis de itens que o usuário atribuiu *rating*. Mais especificamente, o vetor de palavras representativos de um usuário será constituído por todas as palavras presentes nos vetores de itens que o usuário atribuiu *rating* e os pesos de cada palavra serão determinados pelo TF-IDF ponderado pelo *rating* do usuário."
   ]
  },
  {
   "cell_type": "code",
   "execution_count": 7,
   "metadata": {
    "colab": {
     "autoexec": {
      "startup": false,
      "wait_interval": 0
     }
    },
    "colab_type": "code",
    "collapsed": true,
    "id": "CAS-OhGHHK-m"
   },
   "outputs": [],
   "source": [
    "def get_item_profile(item_id):\n",
    "    idx = item_ids.index(item_id)\n",
    "    item_profile = tfidf_matrix[idx:idx+1]\n",
    "    return item_profile\n",
    "\n",
    "def get_item_profiles(ids):\n",
    "    item_profiles_list = [get_item_profile(x) for x in ids]\n",
    "    item_profiles = scipy.sparse.vstack(item_profiles_list)\n",
    "    return item_profiles\n",
    "\n",
    "\n",
    "def build_users_profile(userId, ratings_indexed_df):\n",
    "    ratings_person_df = ratings_indexed_df.loc[userId]\n",
    "    user_item_profiles = get_item_profiles(ratings_person_df['COD'])\n",
    "    \n",
    "    user_item_strengths = np.array(ratings_person_df['RATING']).reshape(-1,1)\n",
    "    #Weighted average of item profiles by the interactions strength\n",
    "    user_item_strengths_weighted_avg = np.sum(user_item_profiles.multiply(user_item_strengths), axis=0) / np.sum(user_item_strengths)\n",
    "    #user_profile_norm = sklearn.preprocessing.normalize(user_item_strengths_weighted_avg)\n",
    "    return user_item_strengths_weighted_avg\n",
    "\n",
    "def build_users_profiles():        \n",
    "    user_profiles = {}\n",
    "    for userId in licitacoes_treinoIDX.index.unique():\n",
    "        user_profiles[userId] = build_users_profile(userId, licitacoes_treinoIDX)\n",
    "    return user_profiles"
   ]
  },
  {
   "cell_type": "code",
   "execution_count": 8,
   "metadata": {
    "colab": {
     "autoexec": {
      "startup": false,
      "wait_interval": 0
     },
     "base_uri": "https://localhost:8080/",
     "height": 34
    },
    "colab_type": "code",
    "executionInfo": {
     "elapsed": 14219,
     "status": "ok",
     "timestamp": 1528912317925,
     "user": {
      "displayName": "Wladmir Cardoso Brandão",
      "photoUrl": "//lh5.googleusercontent.com/-SGSelMTRK_4/AAAAAAAAAAI/AAAAAAABeK0/PmbiLSnzkAE/s50-c-k-no/photo.jpg",
      "userId": "103335929661169749259"
     },
     "user_tz": 180
    },
    "id": "szBEBmZKHQLR",
    "outputId": "d673ee4f-be44-45d3-e353-dec80a07f58c"
   },
   "outputs": [
    {
     "data": {
      "text/plain": [
       "7"
      ]
     },
     "execution_count": 8,
     "metadata": {},
     "output_type": "execute_result"
    }
   ],
   "source": [
    "userProfiles = build_users_profiles()\n",
    "len(userProfiles)"
   ]
  },
  {
   "cell_type": "markdown",
   "metadata": {
    "colab_type": "text",
    "id": "eEOsxauAHUU_"
   },
   "source": [
    "Para simplificar e tornar os cálculos mais rápidos, faremos uma poda nos vetores de palavras e fixaremos o tamanho máximo do vetor em 5.000 palavras. Observando o perfil de um usuário específico, espera-se que as palavras mais representativas no perfil do usuário estejam realmente relacionadas aos conceitos que o usuário se interessa. "
   ]
  },
  {
   "cell_type": "code",
   "execution_count": 9,
   "metadata": {
    "colab": {
     "autoexec": {
      "startup": false,
      "wait_interval": 0
     },
     "base_uri": "https://localhost:8080/",
     "height": 221
    },
    "colab_type": "code",
    "executionInfo": {
     "elapsed": 808,
     "status": "ok",
     "timestamp": 1528912322513,
     "user": {
      "displayName": "Wladmir Cardoso Brandão",
      "photoUrl": "//lh5.googleusercontent.com/-SGSelMTRK_4/AAAAAAAAAAI/AAAAAAABeK0/PmbiLSnzkAE/s50-c-k-no/photo.jpg",
      "userId": "103335929661169749259"
     },
     "user_tz": 180
    },
    "id": "XJiDJVKSHVLd",
    "outputId": "66f6bdfd-f467-48af-8ced-5e6fd33ddaf7"
   },
   "outputs": [
    {
     "name": "stdout",
     "output_type": "stream",
     "text": [
      "(1, 1484)\n"
     ]
    }
   ],
   "source": [
    "user1 = userProfiles[1]\n",
    "print(user1.shape)\n",
    "\n"
   ]
  },
  {
   "cell_type": "code",
   "execution_count": null,
   "metadata": {
    "collapsed": true
   },
   "outputs": [],
   "source": []
  },
  {
   "cell_type": "markdown",
   "metadata": {
    "colab_type": "text",
    "id": "H6eubsJk7Wfm"
   },
   "source": [
    "Agora, vamos implementar a abordagem de recomendação baseada em conteúdo:"
   ]
  },
  {
   "cell_type": "code",
   "execution_count": 10,
   "metadata": {
    "colab": {
     "autoexec": {
      "startup": false,
      "wait_interval": 0
     }
    },
    "colab_type": "code",
    "collapsed": true,
    "id": "TwuouHDuHcLD"
   },
   "outputs": [],
   "source": [
    "class ContentBasedRecommender:\n",
    "    \n",
    "    MODEL_NAME = 'Content-Based'\n",
    "    \n",
    "    def __init__(self, items_df=None):\n",
    "        self.item_ids = item_ids\n",
    "        self.items_df = items_df\n",
    "        \n",
    "    def get_model_name(self):\n",
    "        return self.MODEL_NAME\n",
    "        \n",
    "    def _get_similar_items_to_user_profile(self, person_id, topn=1000):\n",
    "        #Computes the cosine similarity between the user profile and all item profiles\n",
    "        cosine_similarities = cosine_similarity(userProfiles[person_id], tfidf_matrix)\n",
    "        #Gets the top similar items\n",
    "        similar_indices = cosine_similarities.argsort().flatten()[-topn:]\n",
    "        #Sort the similar items by similarity\n",
    "        similar_items = sorted([(item_ids[i], cosine_similarities[0,i]) for i in similar_indices], key=lambda x: -x[1])\n",
    "        return similar_items\n",
    "        \n",
    "    def recommend_items(self, user_id, items_to_ignore=[], topn=10, verbose=False):\n",
    "        similar_items = self._get_similar_items_to_user_profile(user_id)\n",
    "        #envolved=licitacoes_treino.loc[licitacoes_treino['USER'] == user_id ]\n",
    "        #items_to_ignore = envolved['COD'].tolist()\n",
    "        #Ignores items the user has already interacted\n",
    "        #licitacoes_inter = licitacoes_treino.loc[user_id]\n",
    "        #items_to_ignore= licitacoes_inter['COD']\n",
    "        similar_items_filtered = list(filter(lambda x: x[0] not in items_to_ignore, similar_items))\n",
    "        \n",
    "        recommendations_df = pd.DataFrame(similar_items_filtered, columns=['COD', 'RATING']) \\\n",
    "                                    .head(topn)\n",
    "\n",
    "        if verbose:\n",
    "            if self.items_df is None:\n",
    "                raise Exception('\"items_df\" is required in verbose mode')\n",
    "\n",
    "            recommendations_df = recommendations_df.merge(self.items_df, how = 'left', \n",
    "                                                          left_on = 'COD', \n",
    "                                                          #right_on = 'COD')[['PARECER', 'COD', 'OBJETO']]\n",
    "                                                          right_on = 'COD')[['COD', 'OBJETO']]  \n",
    "\n",
    "        return recommendations_df"
   ]
  },
  {
   "cell_type": "code",
   "execution_count": 11,
   "metadata": {
    "colab": {
     "autoexec": {
      "startup": false,
      "wait_interval": 0
     }
    },
    "colab_type": "code",
    "collapsed": true,
    "id": "AkRthhUOsJ36"
   },
   "outputs": [],
   "source": [
    "CBModel = ContentBasedRecommender(licitacoes_treinoIDX)\n",
    "\n",
    "contentBased= CBModel.recommend_items(4, topn=10, verbose=True)\n",
    "\n"
   ]
  },
  {
   "cell_type": "markdown",
   "metadata": {
    "colab_type": "text",
    "id": "tD7wvF727NVC"
   },
   "source": [
    "Finalmente, vamos conferir as recomendações oferecidas pela abordagem para um usuário específico de nossa base de dados:"
   ]
  },
  {
   "cell_type": "code",
   "execution_count": 12,
   "metadata": {
    "colab": {
     "autoexec": {
      "startup": false,
      "wait_interval": 0
     },
     "base_uri": "https://localhost:8080/",
     "height": 204
    },
    "colab_type": "code",
    "executionInfo": {
     "elapsed": 714,
     "status": "ok",
     "timestamp": 1528912337729,
     "user": {
      "displayName": "Wladmir Cardoso Brandão",
      "photoUrl": "//lh5.googleusercontent.com/-SGSelMTRK_4/AAAAAAAAAAI/AAAAAAABeK0/PmbiLSnzkAE/s50-c-k-no/photo.jpg",
      "userId": "103335929661169749259"
     },
     "user_tz": 180
    },
    "id": "N5aCM5YUjWJB",
    "outputId": "a188dab9-c5ce-4b7c-88cd-4ebb02e370ef"
   },
   "outputs": [
    {
     "name": "stdout",
     "output_type": "stream",
     "text": [
      "    COD                          OBJETO\n",
      "0   233             AQUISIÇÃO DE LIVROS\n",
      "1  6523             AQUISIÇÃO DE LIVROS\n",
      "2   236             AQUISIÇÃO DE LIVROS\n",
      "3  6522             AQUISIÇÃO DE LIVROS\n",
      "4   240             AQUISIÇÃO DE LIVROS\n",
      "5  3000  AQUISIÇÃO DE LIVROS LITERARIOS\n",
      "6  6524             AQUISIÇÃO DE LIVROS\n",
      "7   206             AQUISIÇÃO DE LIVROS\n",
      "8  6314                LIVROS DIDATICOS\n",
      "9  6315                LIVROS DIDATICOS\n"
     ]
    }
   ],
   "source": [
    "print (contentBased)"
   ]
  },
  {
   "cell_type": "code",
   "execution_count": null,
   "metadata": {
    "collapsed": true
   },
   "outputs": [],
   "source": []
  },
  {
   "cell_type": "code",
   "execution_count": 13,
   "metadata": {
    "colab": {
     "autoexec": {
      "startup": false,
      "wait_interval": 0
     }
    },
    "colab_type": "code",
    "collapsed": true,
    "id": "h39tdy2BxRfA"
   },
   "outputs": [],
   "source": [
    "def MAE(y_true, y_score):\n",
    "    return (np.absolute(y_true - y_score)).sum() / len(y_true)"
   ]
  },
  {
   "cell_type": "code",
   "execution_count": 14,
   "metadata": {
    "colab": {
     "autoexec": {
      "startup": false,
      "wait_interval": 0
     },
     "base_uri": "https://localhost:8080/",
     "height": 34
    },
    "colab_type": "code",
    "executionInfo": {
     "elapsed": 722,
     "status": "ok",
     "timestamp": 1528912365242,
     "user": {
      "displayName": "Wladmir Cardoso Brandão",
      "photoUrl": "//lh5.googleusercontent.com/-SGSelMTRK_4/AAAAAAAAAAI/AAAAAAABeK0/PmbiLSnzkAE/s50-c-k-no/photo.jpg",
      "userId": "103335929661169749259"
     },
     "user_tz": 180
    },
    "id": "t96z82mFys9y",
    "outputId": "03c21c47-2693-4bb1-d68a-934b690cccd6"
   },
   "outputs": [
    {
     "name": "stdout",
     "output_type": "stream",
     "text": [
      "MAE: 0.800000\n"
     ]
    }
   ],
   "source": [
    "score=np.array([1, 8, 6, 9, 4])\n",
    "oracle=np.array([1, 7, 5, 8, 3])\n",
    "print(\"MAE: %f\" % MAE(oracle,score))"
   ]
  },
  {
   "cell_type": "code",
   "execution_count": 15,
   "metadata": {
    "colab": {
     "autoexec": {
      "startup": false,
      "wait_interval": 0
     }
    },
    "colab_type": "code",
    "collapsed": true,
    "id": "7RfyDdBzw72t"
   },
   "outputs": [],
   "source": [
    "def MSE(y_true, y_score):\n",
    "    return np.power((y_true - y_score),2).sum() / len(y_true)"
   ]
  },
  {
   "cell_type": "code",
   "execution_count": 16,
   "metadata": {
    "colab": {
     "autoexec": {
      "startup": false,
      "wait_interval": 0
     },
     "base_uri": "https://localhost:8080/",
     "height": 34
    },
    "colab_type": "code",
    "executionInfo": {
     "elapsed": 790,
     "status": "ok",
     "timestamp": 1528912373140,
     "user": {
      "displayName": "Wladmir Cardoso Brandão",
      "photoUrl": "//lh5.googleusercontent.com/-SGSelMTRK_4/AAAAAAAAAAI/AAAAAAABeK0/PmbiLSnzkAE/s50-c-k-no/photo.jpg",
      "userId": "103335929661169749259"
     },
     "user_tz": 180
    },
    "id": "ABalzq95yrlU",
    "outputId": "a4d3b7a5-e5be-4dfa-ef1a-196e367f1adb"
   },
   "outputs": [
    {
     "name": "stdout",
     "output_type": "stream",
     "text": [
      "MSE: 0.800000\n"
     ]
    }
   ],
   "source": [
    "score=np.array([1, 8, 6, 9, 4])\n",
    "oracle=np.array([1, 7, 5, 8, 3])\n",
    "print(\"MSE: %f\" % MSE(oracle,score))"
   ]
  },
  {
   "cell_type": "code",
   "execution_count": 17,
   "metadata": {
    "colab": {
     "autoexec": {
      "startup": false,
      "wait_interval": 0
     }
    },
    "colab_type": "code",
    "collapsed": true,
    "id": "TFmAvn4cuqAE"
   },
   "outputs": [],
   "source": [
    "def RMSE(y_true, y_score):\n",
    "    return sqrt(np.power((y_true - y_score),2).sum() / len(y_true))"
   ]
  },
  {
   "cell_type": "code",
   "execution_count": 18,
   "metadata": {
    "colab": {
     "autoexec": {
      "startup": false,
      "wait_interval": 0
     },
     "base_uri": "https://localhost:8080/",
     "height": 34
    },
    "colab_type": "code",
    "executionInfo": {
     "elapsed": 673,
     "status": "ok",
     "timestamp": 1528912381201,
     "user": {
      "displayName": "Wladmir Cardoso Brandão",
      "photoUrl": "//lh5.googleusercontent.com/-SGSelMTRK_4/AAAAAAAAAAI/AAAAAAABeK0/PmbiLSnzkAE/s50-c-k-no/photo.jpg",
      "userId": "103335929661169749259"
     },
     "user_tz": 180
    },
    "id": "BTqwFhV5vduD",
    "outputId": "7a8dbd80-ef0d-4751-ad15-aa2b92919b16"
   },
   "outputs": [
    {
     "name": "stdout",
     "output_type": "stream",
     "text": [
      "RMSE: 0.894427\n"
     ]
    }
   ],
   "source": [
    "\n",
    "\n",
    "score=np.array([1, 8, 6, 9, 4])\n",
    "oracle=np.array([1, 7, 5, 8, 3])\n",
    "print(\"RMSE: %f\" % RMSE(oracle,score))"
   ]
  },
  {
   "cell_type": "code",
   "execution_count": 19,
   "metadata": {
    "colab": {
     "autoexec": {
      "startup": false,
      "wait_interval": 0
     }
    },
    "colab_type": "code",
    "collapsed": true,
    "id": "Bae57FYYUazP"
   },
   "outputs": [],
   "source": [
    "def Precision(y_true, y_score, k=None):\n",
    "    ranking = np.argsort(y_score)[::-1]\n",
    "    rating = y_true[ranking]\n",
    "\n",
    "    if k is not None:\n",
    "        rating = rating[0:k]\n",
    "        \n",
    "    return np.count_nonzero(rating) / len(rating)"
   ]
  },
  {
   "cell_type": "code",
   "execution_count": 20,
   "metadata": {
    "colab": {
     "autoexec": {
      "startup": false,
      "wait_interval": 0
     },
     "base_uri": "https://localhost:8080/",
     "height": 34
    },
    "colab_type": "code",
    "executionInfo": {
     "elapsed": 710,
     "status": "ok",
     "timestamp": 1528912396876,
     "user": {
      "displayName": "Wladmir Cardoso Brandão",
      "photoUrl": "//lh5.googleusercontent.com/-SGSelMTRK_4/AAAAAAAAAAI/AAAAAAABeK0/PmbiLSnzkAE/s50-c-k-no/photo.jpg",
      "userId": "103335929661169749259"
     },
     "user_tz": 180
    },
    "id": "MD-ZbC0nVVE4",
    "outputId": "6f3f8b34-5ff8-4d5e-9c6c-6c2d6d831513"
   },
   "outputs": [
    {
     "name": "stdout",
     "output_type": "stream",
     "text": [
      "Precision: 0.800000\n"
     ]
    }
   ],
   "source": [
    "score=np.array([1, 8, 6, 9, 4])\n",
    "oracle=np.array([1, 0, 1, 4, 1])\n",
    "print(\"Precision: %f\" % Precision(oracle,score))"
   ]
  },
  {
   "cell_type": "code",
   "execution_count": 21,
   "metadata": {
    "colab": {
     "autoexec": {
      "startup": false,
      "wait_interval": 0
     }
    },
    "colab_type": "code",
    "collapsed": true,
    "id": "DLViRo5IiMfQ"
   },
   "outputs": [],
   "source": [
    "def Recall(y_true, y_score, k=None):\n",
    "    ranking = np.argsort(y_score)[::-1]\n",
    "    rating = y_true[ranking]\n",
    "    allRelevant = np.count_nonzero(rating)\n",
    "\n",
    "    if k is not None:\n",
    "        rating = rating[0:k]\n",
    "        \n",
    "    return np.count_nonzero(rating) / allRelevant"
   ]
  },
  {
   "cell_type": "code",
   "execution_count": 22,
   "metadata": {
    "colab": {
     "autoexec": {
      "startup": false,
      "wait_interval": 0
     },
     "base_uri": "https://localhost:8080/",
     "height": 34
    },
    "colab_type": "code",
    "executionInfo": {
     "elapsed": 700,
     "status": "ok",
     "timestamp": 1528912405157,
     "user": {
      "displayName": "Wladmir Cardoso Brandão",
      "photoUrl": "//lh5.googleusercontent.com/-SGSelMTRK_4/AAAAAAAAAAI/AAAAAAABeK0/PmbiLSnzkAE/s50-c-k-no/photo.jpg",
      "userId": "103335929661169749259"
     },
     "user_tz": 180
    },
    "id": "TbcOdCQWiuoY",
    "outputId": "1c6cb452-7fb6-4707-ac7f-53a10500f30a"
   },
   "outputs": [
    {
     "name": "stdout",
     "output_type": "stream",
     "text": [
      "Recall: 0.500000\n"
     ]
    }
   ],
   "source": [
    "score=np.array([1, 8, 6, 9, 4])\n",
    "oracle=np.array([1, 0, 1, 4, 1])\n",
    "print(\"Recall: %f\" % Recall(oracle,score,k=3))"
   ]
  },
  {
   "cell_type": "code",
   "execution_count": 23,
   "metadata": {
    "colab": {
     "autoexec": {
      "startup": false,
      "wait_interval": 0
     }
    },
    "colab_type": "code",
    "collapsed": true,
    "id": "K920onmL0QDc"
   },
   "outputs": [],
   "source": [
    "def getPrecision(hits):\n",
    "    v=np.cumsum(hits)[::-1]\n",
    "    v=np.where((v[1:] - v[:-1]) == 0, 0, v[:-1])\n",
    "    v=np.append(v, hits[0])\n",
    "    pos=np.arange(len(hits))+1\n",
    "    return v[::-1] / pos\n",
    "\n",
    "def AveragePrecision(y_true, y_score, k=None, binary=True):\n",
    "    ranking = np.argsort(y_score)[::-1]\n",
    "    rating = y_true[ranking]\n",
    "    if k is not None:\n",
    "        rating = rating[0:k]\n",
    "    hits=np.where(rating > 0, 1, 0)\n",
    "    if binary:\n",
    "        rating=hits\n",
    "    precision = getPrecision(hits)\n",
    "    return (rating * precision).sum() / np.count_nonzero(hits)"
   ]
  },
  {
   "cell_type": "code",
   "execution_count": 24,
   "metadata": {
    "colab": {
     "autoexec": {
      "startup": false,
      "wait_interval": 0
     },
     "base_uri": "https://localhost:8080/",
     "height": 34
    },
    "colab_type": "code",
    "executionInfo": {
     "elapsed": 877,
     "status": "ok",
     "timestamp": 1528912414927,
     "user": {
      "displayName": "Wladmir Cardoso Brandão",
      "photoUrl": "//lh5.googleusercontent.com/-SGSelMTRK_4/AAAAAAAAAAI/AAAAAAABeK0/PmbiLSnzkAE/s50-c-k-no/photo.jpg",
      "userId": "103335929661169749259"
     },
     "user_tz": 180
    },
    "id": "SAE7kZP_PfWJ",
    "outputId": "cc556331-e2ff-47a4-8f0f-e25a96558cae"
   },
   "outputs": [
    {
     "name": "stdout",
     "output_type": "stream",
     "text": [
      "AP: 0.833333\n"
     ]
    }
   ],
   "source": [
    "score=np.array([1, 8, 6, 9, 4])\n",
    "oracle=np.array([1, 0, 1, 4, 1])\n",
    "print(\"AP: %f\" % AveragePrecision(oracle,score,k=3))"
   ]
  },
  {
   "cell_type": "code",
   "execution_count": 25,
   "metadata": {
    "colab": {
     "autoexec": {
      "startup": false,
      "wait_interval": 0
     }
    },
    "colab_type": "code",
    "collapsed": true,
    "id": "O0S_MHx4SpuA"
   },
   "outputs": [],
   "source": [
    "def getCumulativeGain(y_true, y_score, k=None):\n",
    "    ranking = np.argsort(y_score)[::-1]\n",
    "    rating = y_true[ranking]\n",
    "    if k is not None:\n",
    "        rating = rating[0:k]    \n",
    "    logIndices = np.log2(np.arange(len(rating))+2)\n",
    "    return (rating / logIndices).sum()\n",
    "\n",
    "\n",
    "def nDCG(y_true, y_score, k=None):\n",
    "    gain = getCumulativeGain(y_true, y_score, k)\n",
    "    norm = getCumulativeGain(y_true[np.argsort(y_true)[::-1]], y_score[np.argsort(y_score)[::-1]], k)\n",
    "    return gain / norm"
   ]
  },
  {
   "cell_type": "code",
   "execution_count": 26,
   "metadata": {
    "colab": {
     "autoexec": {
      "startup": false,
      "wait_interval": 0
     },
     "base_uri": "https://localhost:8080/",
     "height": 51
    },
    "colab_type": "code",
    "executionInfo": {
     "elapsed": 666,
     "status": "ok",
     "timestamp": 1528912429804,
     "user": {
      "displayName": "Wladmir Cardoso Brandão",
      "photoUrl": "//lh5.googleusercontent.com/-SGSelMTRK_4/AAAAAAAAAAI/AAAAAAABeK0/PmbiLSnzkAE/s50-c-k-no/photo.jpg",
      "userId": "103335929661169749259"
     },
     "user_tz": 180
    },
    "id": "neY4vf4gpeTb",
    "outputId": "d248ec6b-ae68-40c9-ec50-5d16ad87519f"
   },
   "outputs": [
    {
     "name": "stdout",
     "output_type": "stream",
     "text": [
      "DCG: 4.500000\n",
      "nDCG: 0.877034\n"
     ]
    }
   ],
   "source": [
    "score=np.array([1, 8, 6, 9, 4])\n",
    "oracle=np.array([1, 0, 1, 4, 1])\n",
    "print(\"DCG: %f\" % getCumulativeGain(oracle,score,k=3))\n",
    "print(\"nDCG: %f\" % nDCG(oracle,score,k=3))"
   ]
  },
  {
   "cell_type": "markdown",
   "metadata": {
    "colab_type": "text",
    "id": "7PeaiHlAJqBY"
   },
   "source": [
    "### Modelos de Avaliação\n",
    "\n",
    "---\n",
    "\n",
    "Como existem diferenças na forma como as abordagens de recomendação são capazes de entregar os resultados, se faz necessário desenvolver diferentes modelos para avaliação das abordagens. Por exemplo, para abordagens capazes de entregar listas ordenadas (ranking) de recomendações é adequado utilizar modelos que avaliem a qualidade do ranking entregue. Já para abordagens capazes de entregar *ratings* de usuários em itens é adequado utilizar modelos que avaliem o quanto os *ratings* entregues são próximas dos *ratings* reais, aquelas o usuário efetivamente atribuiria a itens."
   ]
  },
  {
   "cell_type": "markdown",
   "metadata": {
    "colab_type": "text",
    "id": "F6lVVV30Mx2W"
   },
   "source": [
    "#### Ranking\n",
    "\n",
    "---\n",
    "\n",
    "O modelo de avaliação de ranking aqui utilizado considera que cada abordagem avaliada seja capaz de sugerir aos usuários um ranking de $k$ itens relevantes. Particularmente, cada abordagem é capaz de associar a cada um dos $k$ items que o usuário não atribuiu *rating* uma medida (*score*) que permite a ordenação dos itens em uma lista de recomendação onde os top-$n$ elementos serão utilizados no cálculo da acurácia da abordagem."
   ]
  },
  {
   "cell_type": "code",
   "execution_count": 27,
   "metadata": {
    "colab": {
     "autoexec": {
      "startup": false,
      "wait_interval": 0
     }
    },
    "colab_type": "code",
    "collapsed": true,
    "id": "c-kOEVXfF7NA"
   },
   "outputs": [],
   "source": [
    "class RankingEvaluator:\n",
    "     \n",
    "    def getRatedItems(self, user_id, ratingsDF):\n",
    "        ratedItems = ratingsDF.loc[user_id]['COD']\n",
    "        return set(ratedItems if type(ratedItems) == pd.Series else [ratedItems])\n",
    "\n",
    "    def evaluateModelForUser(self, model, user_id, k=1000, n=10):\n",
    "        relevantItems = ratingsTestIndexedDF.loc[user_id]\n",
    "        if type(relevantItems['COD']) == pd.Series:\n",
    "            relevantItems = set(relevantItems['COD'])\n",
    "        else:\n",
    "            relevantItems = set([int(relevantItems['COD'])])\n",
    "        if (not relevantItems or len(relevantItems) < n):\n",
    "            return {}\n",
    "          \n",
    "        APValue = 0\n",
    "        nDCG1Value = 0\n",
    "        nDCG3Value = 0\n",
    "        nDCG5Value = 0\n",
    "        nDCG10Value = 0\n",
    "        recommendationsDF = model.recommend_items(user_id, \n",
    "                                            items_to_ignore=self.getRatedItems(user_id, ratingsTrainIndexedDF), \n",
    "                                            topn=k)[['COD', 'RATING']]\n",
    "        oracleDF = recommendationsDF['COD'].isin(relevantItems)\n",
    "        if (any(oracleDF)):\n",
    "            APValue = AveragePrecision(oracleDF.values.flatten(), recommendationsDF['RATING'].values.flatten())\n",
    "            nDCG1Value = nDCG(oracleDF.values.flatten(), recommendationsDF['RATING'].values.flatten(), k=1)            \n",
    "            nDCG3Value = nDCG(oracleDF.values.flatten(), recommendationsDF['RATING'].values.flatten(), k=3)\n",
    "            nDCG5Value = nDCG(oracleDF.values.flatten(), recommendationsDF['RATING'].values.flatten(), k=5)\n",
    "            nDCG10Value = nDCG(oracleDF.values.flatten(), recommendationsDF['RATING'].values.flatten(), k=10)\n",
    "            \n",
    "        userMetrics = {'relevant': len(relevantItems), \n",
    "                      'AP': APValue,\n",
    "                      'nDCG@1': nDCG1Value,\n",
    "                      'nDCG@3': nDCG3Value,\n",
    "                      'nDCG@5': nDCG5Value,\n",
    "                      'nDCG@10': nDCG10Value}\n",
    "        return userMetrics\n",
    "\n",
    "    def evaluate(self, model, k=1000, n=10):\n",
    "        usersMetrics = []\n",
    "        for idx, user_id in enumerate(list(ratingsTestIndexedDF.index.unique().values)):\n",
    "            userMetrics = self.evaluateModelForUser(model, user_id, k, n) \n",
    "            if (not userMetrics):\n",
    "              continue;\n",
    "            userMetrics['USER'] = user_id\n",
    "            usersMetrics.append(userMetrics)\n",
    "\n",
    "        resultsDF = pd.DataFrame(usersMetrics) \\\n",
    "                      .sort_values('relevant', ascending=False)\n",
    "        \n",
    "        globalMAP = resultsDF['AP'].sum() / float(len(resultsDF))\n",
    "        globalNDCG1 = resultsDF['nDCG@1'].sum() / float(len(resultsDF))\n",
    "        globalNDCG3 = resultsDF['nDCG@3'].sum() / float(len(resultsDF))       \n",
    "        globalNDCG5 = resultsDF['nDCG@5'].sum() / float(len(resultsDF))\n",
    "        globalNDCG10 = resultsDF['nDCG@10'].sum() / float(len(resultsDF))\n",
    "\n",
    "        globalMetrics = {'modelName': model.get_model_name(),\n",
    "                          'MAP': globalMAP,\n",
    "                          'nDCG@1': globalNDCG1,\n",
    "                          'nDCG@3': globalNDCG3,\n",
    "                          'nDCG@5': globalNDCG5,\n",
    "                          'nDCG@10': globalNDCG10}  \n",
    "        \n",
    "        return globalMetrics, resultsDF\n",
    "    \n",
    "rankingEvaluator = RankingEvaluator()"
   ]
  },
  {
   "cell_type": "markdown",
   "metadata": {
    "colab_type": "text",
    "id": "YhbJYABzP6U_"
   },
   "source": [
    "Cabe ressaltar que as métricas de avaliação de acurácia utilizadas por esse modelo devem ser métricas de relevância que captem a qualidade do ranking entregue pela abordagem, tais como $P$, $R$, $AP$ e $nDCG$. "
   ]
  },
  {
   "cell_type": "markdown",
   "metadata": {
    "colab_type": "text",
    "id": "xHkVQ2csV38F"
   },
   "source": [
    "## Experimentos e Resultados\n",
    "\n",
    "---\n",
    "\n",
    "Nossa avaliação se concentrará no aspecto da acurácia e usaremos o método de validação cruzada com  [holdout](https://pt.wikipedia.org/wiki/Valida%C3%A7%C3%A3o_cruzada#M%C3%A9todo_holdout) com uma amostra aleatória de 80% dos dados para treino das abordagens de recomendação e os 20% restantes para teste.\n",
    "Para todas as abordagens avaliadas utilizaremos o modelo de avaliação de ranking reportando as métricas $MAP$ (acrônimo em inglês para *Mean Average Precision*), $nDCG@1$, $nDCG@3$, $nDCG@5$ e $nDCG@10$ e para as abordagens de filtragem colaborativa utilizaremos também o modelo de avaliação de *rating* reportando as métricas $MAE$, $MSE$ e $RMSE$, uma vez que se trata de abordagens capazes de entregar, além de listas de recomendações, *ratings* de usuários em itens."
   ]
  },
  {
   "cell_type": "code",
   "execution_count": 28,
   "metadata": {
    "colab": {
     "autoexec": {
      "startup": false,
      "wait_interval": 0
     },
     "base_uri": "https://localhost:8080/",
     "height": 51
    },
    "colab_type": "code",
    "executionInfo": {
     "elapsed": 768,
     "status": "ok",
     "timestamp": 1528912451431,
     "user": {
      "displayName": "Wladmir Cardoso Brandão",
      "photoUrl": "//lh5.googleusercontent.com/-SGSelMTRK_4/AAAAAAAAAAI/AAAAAAABeK0/PmbiLSnzkAE/s50-c-k-no/photo.jpg",
      "userId": "103335929661169749259"
     },
     "user_tz": 180
    },
    "id": "z4QG1o9OFrHZ",
    "outputId": "e42e0789-98d6-41b8-a130-d7a4c07c92aa"
   },
   "outputs": [
    {
     "name": "stdout",
     "output_type": "stream",
     "text": [
      "# de ratings no subconjunto de treino: 25728\n",
      "# de ratings no subconjunto de teste: 6432\n"
     ]
    }
   ],
   "source": [
    "from sklearn.model_selection import train_test_split\n",
    "ratingsDF = licitacoes_treino\n",
    "ratingsTrainDF, ratingsTestDF = train_test_split(ratingsDF,\n",
    "                                                 stratify=ratingsDF['USER'], \n",
    "                                                 test_size=0.20,\n",
    "                                                 random_state=73)\n",
    "\n",
    "print('# de ratings no subconjunto de treino: %d' % len(ratingsTrainDF))\n",
    "print('# de ratings no subconjunto de teste: %d' % len(ratingsTestDF))"
   ]
  },
  {
   "cell_type": "code",
   "execution_count": 29,
   "metadata": {
    "colab": {
     "autoexec": {
      "startup": false,
      "wait_interval": 0
     }
    },
    "colab_type": "code",
    "collapsed": true,
    "id": "0oL0VKeDF0aN"
   },
   "outputs": [],
   "source": [
    "#Indexing by userId to speed up the searches during evaluation\n",
    "ratingsIndexedDF = ratingsDF.set_index('USER')\n",
    "ratingsTrainIndexedDF = ratingsTrainDF.set_index('USER')\n",
    "ratingsTestIndexedDF = ratingsTestDF.set_index('USER')\n",
    "CBModel = ContentBasedRecommender(ratingsTrainIndexedDF)\n",
    "\n",
    "contentBased= CBModel.recommend_items(4, topn=10, verbose=True)"
   ]
  },
  {
   "cell_type": "markdown",
   "metadata": {
    "colab_type": "text",
    "id": "i6rABQBMzKlx"
   },
   "source": [
    "### Baseada em Conteúdo\n",
    "\n",
    "---\n",
    "\n"
   ]
  },
  {
   "cell_type": "code",
   "execution_count": 30,
   "metadata": {
    "colab": {
     "autoexec": {
      "startup": false,
      "wait_interval": 0
     },
     "base_uri": "https://localhost:8080/",
     "height": 105
    },
    "colab_type": "code",
    "executionInfo": {
     "elapsed": 7863,
     "status": "ok",
     "timestamp": 1528912634464,
     "user": {
      "displayName": "Wladmir Cardoso Brandão",
      "photoUrl": "//lh5.googleusercontent.com/-SGSelMTRK_4/AAAAAAAAAAI/AAAAAAABeK0/PmbiLSnzkAE/s50-c-k-no/photo.jpg",
      "userId": "103335929661169749259"
     },
     "user_tz": 180
    },
    "id": "vCUEhpJXHobU",
    "outputId": "07615502-28b7-4251-92e2-593b3e5125d2"
   },
   "outputs": [
    {
     "name": "stdout",
     "output_type": "stream",
     "text": [
      "Avaliando a abordagem Content-Based...\n",
      "\n",
      "Métricas Globais:\n",
      "{'modelName': 'Content-Based', 'MAP': 0.6902166893237223, 'nDCG@1': 0.8571428571428571, 'nDCG@3': 0.8236229481412316, 'nDCG@5': 0.8423665306429948, 'nDCG@10': 0.8469860033727026}\n"
     ]
    }
   ],
   "source": [
    "print('Avaliando a abordagem %s...' % CBModel.get_model_name())\n",
    "CBGlobalMetricsRankingDF, CBDetailedMetricsRankingDF = rankingEvaluator.evaluate(CBModel)\n",
    "print('\\nMétricas Globais:\\n%s' % CBGlobalMetricsRankingDF)"
   ]
  },
  {
   "cell_type": "code",
   "execution_count": 31,
   "metadata": {
    "colab": {
     "autoexec": {
      "startup": false,
      "wait_interval": 0
     },
     "base_uri": "https://localhost:8080/",
     "height": 204
    },
    "colab_type": "code",
    "executionInfo": {
     "elapsed": 753,
     "status": "ok",
     "timestamp": 1528912656863,
     "user": {
      "displayName": "Wladmir Cardoso Brandão",
      "photoUrl": "//lh5.googleusercontent.com/-SGSelMTRK_4/AAAAAAAAAAI/AAAAAAABeK0/PmbiLSnzkAE/s50-c-k-no/photo.jpg",
      "userId": "103335929661169749259"
     },
     "user_tz": 180
    },
    "id": "WMBT7TADPFgK",
    "outputId": "09d7e320-3e89-43ac-fa15-61a5837a7514"
   },
   "outputs": [
    {
     "data": {
      "text/html": [
       "<div>\n",
       "<style>\n",
       "    .dataframe thead tr:only-child th {\n",
       "        text-align: right;\n",
       "    }\n",
       "\n",
       "    .dataframe thead th {\n",
       "        text-align: left;\n",
       "    }\n",
       "\n",
       "    .dataframe tbody tr th {\n",
       "        vertical-align: top;\n",
       "    }\n",
       "</style>\n",
       "<table border=\"1\" class=\"dataframe\">\n",
       "  <thead>\n",
       "    <tr style=\"text-align: right;\">\n",
       "      <th></th>\n",
       "      <th>USER</th>\n",
       "      <th>relevant</th>\n",
       "      <th>AP</th>\n",
       "      <th>nDCG@1</th>\n",
       "      <th>nDCG@3</th>\n",
       "      <th>nDCG@5</th>\n",
       "      <th>nDCG@10</th>\n",
       "    </tr>\n",
       "  </thead>\n",
       "  <tbody>\n",
       "    <tr>\n",
       "      <th>2</th>\n",
       "      <td>1</td>\n",
       "      <td>2101</td>\n",
       "      <td>0.781615</td>\n",
       "      <td>1.0</td>\n",
       "      <td>1.0</td>\n",
       "      <td>1.0</td>\n",
       "      <td>1.0</td>\n",
       "    </tr>\n",
       "    <tr>\n",
       "      <th>3</th>\n",
       "      <td>2</td>\n",
       "      <td>913</td>\n",
       "      <td>0.824108</td>\n",
       "      <td>1.0</td>\n",
       "      <td>1.0</td>\n",
       "      <td>1.0</td>\n",
       "      <td>1.0</td>\n",
       "    </tr>\n",
       "    <tr>\n",
       "      <th>6</th>\n",
       "      <td>3</td>\n",
       "      <td>347</td>\n",
       "      <td>0.991972</td>\n",
       "      <td>1.0</td>\n",
       "      <td>1.0</td>\n",
       "      <td>1.0</td>\n",
       "      <td>1.0</td>\n",
       "    </tr>\n",
       "    <tr>\n",
       "      <th>1</th>\n",
       "      <td>4</td>\n",
       "      <td>1140</td>\n",
       "      <td>0.743324</td>\n",
       "      <td>1.0</td>\n",
       "      <td>1.0</td>\n",
       "      <td>1.0</td>\n",
       "      <td>1.0</td>\n",
       "    </tr>\n",
       "    <tr>\n",
       "      <th>0</th>\n",
       "      <td>5</td>\n",
       "      <td>1770</td>\n",
       "      <td>0.851272</td>\n",
       "      <td>1.0</td>\n",
       "      <td>1.0</td>\n",
       "      <td>1.0</td>\n",
       "      <td>1.0</td>\n",
       "    </tr>\n",
       "  </tbody>\n",
       "</table>\n",
       "</div>"
      ],
      "text/plain": [
       "   USER  relevant        AP  nDCG@1  nDCG@3  nDCG@5  nDCG@10\n",
       "2     1      2101  0.781615     1.0     1.0     1.0      1.0\n",
       "3     2       913  0.824108     1.0     1.0     1.0      1.0\n",
       "6     3       347  0.991972     1.0     1.0     1.0      1.0\n",
       "1     4      1140  0.743324     1.0     1.0     1.0      1.0\n",
       "0     5      1770  0.851272     1.0     1.0     1.0      1.0"
      ]
     },
     "execution_count": 31,
     "metadata": {},
     "output_type": "execute_result"
    }
   ],
   "source": [
    "CBDetailedMetricsRankingDF = CBDetailedMetricsRankingDF[['USER', 'relevant', 'AP', 'nDCG@1', 'nDCG@3', 'nDCG@5', 'nDCG@10']]\n",
    "CBDetailedMetricsRankingDF.sort_values(by=['USER']).head(5)"
   ]
  },
  {
   "cell_type": "markdown",
   "metadata": {
    "colab_type": "text",
    "id": "VlewVAHHJH-B"
   },
   "source": [
    "### Análise Comparativa\n",
    "---\n"
   ]
  },
  {
   "cell_type": "code",
   "execution_count": 32,
   "metadata": {
    "colab": {
     "autoexec": {
      "startup": false,
      "wait_interval": 0
     },
     "base_uri": "https://localhost:8080/",
     "height": 266
    },
    "colab_type": "code",
    "executionInfo": {
     "elapsed": 800,
     "status": "ok",
     "timestamp": 1528912784337,
     "user": {
      "displayName": "Wladmir Cardoso Brandão",
      "photoUrl": "//lh5.googleusercontent.com/-SGSelMTRK_4/AAAAAAAAAAI/AAAAAAABeK0/PmbiLSnzkAE/s50-c-k-no/photo.jpg",
      "userId": "103335929661169749259"
     },
     "user_tz": 180
    },
    "id": "1og9hPxZJR3y",
    "outputId": "fb5a5f67-2b26-4104-da4b-cc55ecc6bd29"
   },
   "outputs": [
    {
     "data": {
      "text/html": [
       "<div>\n",
       "<style>\n",
       "    .dataframe thead tr:only-child th {\n",
       "        text-align: right;\n",
       "    }\n",
       "\n",
       "    .dataframe thead th {\n",
       "        text-align: left;\n",
       "    }\n",
       "\n",
       "    .dataframe tbody tr th {\n",
       "        vertical-align: top;\n",
       "    }\n",
       "</style>\n",
       "<table border=\"1\" class=\"dataframe\">\n",
       "  <thead>\n",
       "    <tr style=\"text-align: right;\">\n",
       "      <th></th>\n",
       "      <th>MAP</th>\n",
       "      <th>nDCG@1</th>\n",
       "      <th>nDCG@3</th>\n",
       "      <th>nDCG@5</th>\n",
       "      <th>nDCG@10</th>\n",
       "    </tr>\n",
       "    <tr>\n",
       "      <th>Abordagem</th>\n",
       "      <th></th>\n",
       "      <th></th>\n",
       "      <th></th>\n",
       "      <th></th>\n",
       "      <th></th>\n",
       "    </tr>\n",
       "  </thead>\n",
       "  <tbody>\n",
       "    <tr>\n",
       "      <th>Content-Based</th>\n",
       "      <td>0.690217</td>\n",
       "      <td>0.857143</td>\n",
       "      <td>0.823623</td>\n",
       "      <td>0.842367</td>\n",
       "      <td>0.846986</td>\n",
       "    </tr>\n",
       "  </tbody>\n",
       "</table>\n",
       "</div>"
      ],
      "text/plain": [
       "                    MAP    nDCG@1    nDCG@3    nDCG@5   nDCG@10\n",
       "Abordagem                                                      \n",
       "Content-Based  0.690217  0.857143  0.823623  0.842367  0.846986"
      ]
     },
     "execution_count": 32,
     "metadata": {},
     "output_type": "execute_result"
    }
   ],
   "source": [
    "globalRankingMetricsDF = pd.DataFrame([CBGlobalMetricsRankingDF])\n",
    "globalRankingMetricsDF = globalRankingMetricsDF[['modelName', 'MAP', 'nDCG@1', 'nDCG@3', 'nDCG@5', 'nDCG@10']]\n",
    "globalRankingMetricsDF.columns = ['Abordagem', 'MAP', 'nDCG@1', 'nDCG@3', 'nDCG@5', 'nDCG@10']\n",
    "globalRankingMetricsDF = globalRankingMetricsDF.set_index('Abordagem')\n",
    "globalRankingMetricsDF"
   ]
  },
  {
   "cell_type": "code",
   "execution_count": 33,
   "metadata": {
    "colab": {
     "autoexec": {
      "startup": false,
      "wait_interval": 0
     },
     "base_uri": "https://localhost:8080/",
     "height": 522
    },
    "colab_type": "code",
    "executionInfo": {
     "elapsed": 956,
     "status": "ok",
     "timestamp": 1528912792738,
     "user": {
      "displayName": "Wladmir Cardoso Brandão",
      "photoUrl": "//lh5.googleusercontent.com/-SGSelMTRK_4/AAAAAAAAAAI/AAAAAAABeK0/PmbiLSnzkAE/s50-c-k-no/photo.jpg",
      "userId": "103335929661169749259"
     },
     "user_tz": 180
    },
    "id": "Yeu38CU0JVJ0",
    "outputId": "caa201bf-bb02-4e4b-fc56-b8f641cbc389"
   },
   "outputs": [
    {
     "data": {
      "image/png": "[encoded data removed]",
      "text/plain": [
       "<matplotlib.figure.Figure at 0x1c6cb56e2b0>"
      ]
     },
     "metadata": {},
     "output_type": "display_data"
    }
   ],
   "source": [
    "%matplotlib inline\n",
    "ax = globalRankingMetricsDF.transpose().plot(kind='bar', figsize=(15,8))\n",
    "for p in ax.patches:\n",
    "    ax.annotate(\"%.3f\" % p.get_height(), (p.get_x() + p.get_width() / 2., p.get_height()), ha='center', va='center', xytext=(0, 10), textcoords='offset points')"
   ]
  },
  {
   "cell_type": "code",
   "execution_count": null,
   "metadata": {
    "collapsed": true
   },
   "outputs": [],
   "source": []
  }
 ],
 "metadata": {
  "colab": {
   "collapsed_sections": [],
   "default_view": {},
   "name": "Recomendação em Python",
   "provenance": [
    {
     "file_id": "1t1z7BYVjWN_UCzoc3dNOfqeAYbYYfMay",
     "timestamp": 1524676370807
    }
   ],
   "toc_visible": true,
   "version": "0.3.2",
   "views": {}
  },
  "kernelspec": {
   "display_name": "Python 3",
   "language": "python",
   "name": "python3"
  },
  "language_info": {
   "codemirror_mode": {
    "name": "ipython",
    "version": 3
   },
   "file_extension": ".py",
   "mimetype": "text/x-python",
   "name": "python",
   "nbconvert_exporter": "python",
   "pygments_lexer": "ipython3",
   "version": "3.6.6"
  }
 },
 "nbformat": 4,
 "nbformat_minor": 1
}
